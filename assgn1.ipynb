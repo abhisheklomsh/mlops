{
  "cells": [
    {
      "cell_type": "markdown",
      "metadata": {
        "id": "PlWJJRwV81vk"
      },
      "source": [
        "## Predicting Survival on the Titanic\n",
        "\n",
        "### History\n",
        "Perhaps one of the most infamous shipwrecks in history, the Titanic sank after colliding with an iceberg, killing 1502 out of 2224 people on board. Interestingly, by analysing the probability of survival based on few attributes like gender, age, and social status, we can make very accurate predictions on which passengers would survive. Some groups of people were more likely to survive than others, such as women, children, and the upper-class. Therefore, we can learn about the society priorities and privileges at the time.\n",
        "\n",
        "### Assignment:\n",
        "\n",
        "Build a Machine Learning Pipeline, to engineer the features in the data set and predict who is more likely to Survive the catastrophe.\n",
        "\n",
        "Follow the Jupyter notebook below, and complete the missing bits of code, to achieve each one of the pipeline steps."
      ]
    },
    {
      "cell_type": "code",
      "execution_count": 1,
      "metadata": {
        "id": "8K4ZU9ua81vn"
      },
      "outputs": [],
      "source": [
        "import re\n",
        "import ssl\n",
        "ssl._create_default_https_context = ssl._create_unverified_context\n",
        "\n",
        "# to handle datasets\n",
        "import pandas as pd\n",
        "import numpy as np\n",
        "import seaborn as sns\n",
        "\n",
        "# for visualization\n",
        "import matplotlib.pyplot as plt\n",
        "\n",
        "# to divide train and test set\n",
        "from sklearn.model_selection import train_test_split\n",
        "\n",
        "# feature scaling\n",
        "from sklearn.preprocessing import StandardScaler\n",
        "\n",
        "# to build the models\n",
        "from sklearn.linear_model import LogisticRegression\n",
        "\n",
        "# to evaluate the models\n",
        "from sklearn.metrics import accuracy_score, roc_auc_score\n",
        "\n",
        "# to persist the model and the scaler\n",
        "import joblib\n",
        "\n",
        "# to visualise al the columns in the dataframe\n",
        "pd.pandas.set_option('display.max_columns', None)\n",
        "\n",
        "import warnings\n",
        "warnings.filterwarnings('ignore')"
      ]
    },
    {
      "cell_type": "markdown",
      "metadata": {
        "id": "O2efQA4p81vo"
      },
      "source": [
        "## Prepare the data set"
      ]
    },
    {
      "cell_type": "code",
      "execution_count": 2,
      "metadata": {
        "colab": {
          "base_uri": "https://localhost:8080/",
          "height": 319
        },
        "id": "8XP_8vA381vo",
        "outputId": "660260ef-4e00-4676-8fcc-9952d041b128"
      },
      "outputs": [
        {
          "data": {
            "text/html": [
              "<div>\n",
              "<style scoped>\n",
              "    .dataframe tbody tr th:only-of-type {\n",
              "        vertical-align: middle;\n",
              "    }\n",
              "\n",
              "    .dataframe tbody tr th {\n",
              "        vertical-align: top;\n",
              "    }\n",
              "\n",
              "    .dataframe thead th {\n",
              "        text-align: right;\n",
              "    }\n",
              "</style>\n",
              "<table border=\"1\" class=\"dataframe\">\n",
              "  <thead>\n",
              "    <tr style=\"text-align: right;\">\n",
              "      <th></th>\n",
              "      <th>pclass</th>\n",
              "      <th>survived</th>\n",
              "      <th>name</th>\n",
              "      <th>sex</th>\n",
              "      <th>age</th>\n",
              "      <th>sibsp</th>\n",
              "      <th>parch</th>\n",
              "      <th>ticket</th>\n",
              "      <th>fare</th>\n",
              "      <th>cabin</th>\n",
              "      <th>embarked</th>\n",
              "      <th>boat</th>\n",
              "      <th>body</th>\n",
              "      <th>home.dest</th>\n",
              "    </tr>\n",
              "  </thead>\n",
              "  <tbody>\n",
              "    <tr>\n",
              "      <th>0</th>\n",
              "      <td>1</td>\n",
              "      <td>1</td>\n",
              "      <td>Allen, Miss. Elisabeth Walton</td>\n",
              "      <td>female</td>\n",
              "      <td>29</td>\n",
              "      <td>0</td>\n",
              "      <td>0</td>\n",
              "      <td>24160</td>\n",
              "      <td>211.3375</td>\n",
              "      <td>B5</td>\n",
              "      <td>S</td>\n",
              "      <td>2</td>\n",
              "      <td>?</td>\n",
              "      <td>St Louis, MO</td>\n",
              "    </tr>\n",
              "    <tr>\n",
              "      <th>1</th>\n",
              "      <td>1</td>\n",
              "      <td>1</td>\n",
              "      <td>Allison, Master. Hudson Trevor</td>\n",
              "      <td>male</td>\n",
              "      <td>0.9167</td>\n",
              "      <td>1</td>\n",
              "      <td>2</td>\n",
              "      <td>113781</td>\n",
              "      <td>151.55</td>\n",
              "      <td>C22 C26</td>\n",
              "      <td>S</td>\n",
              "      <td>11</td>\n",
              "      <td>?</td>\n",
              "      <td>Montreal, PQ / Chesterville, ON</td>\n",
              "    </tr>\n",
              "    <tr>\n",
              "      <th>2</th>\n",
              "      <td>1</td>\n",
              "      <td>0</td>\n",
              "      <td>Allison, Miss. Helen Loraine</td>\n",
              "      <td>female</td>\n",
              "      <td>2</td>\n",
              "      <td>1</td>\n",
              "      <td>2</td>\n",
              "      <td>113781</td>\n",
              "      <td>151.55</td>\n",
              "      <td>C22 C26</td>\n",
              "      <td>S</td>\n",
              "      <td>?</td>\n",
              "      <td>?</td>\n",
              "      <td>Montreal, PQ / Chesterville, ON</td>\n",
              "    </tr>\n",
              "    <tr>\n",
              "      <th>3</th>\n",
              "      <td>1</td>\n",
              "      <td>0</td>\n",
              "      <td>Allison, Mr. Hudson Joshua Creighton</td>\n",
              "      <td>male</td>\n",
              "      <td>30</td>\n",
              "      <td>1</td>\n",
              "      <td>2</td>\n",
              "      <td>113781</td>\n",
              "      <td>151.55</td>\n",
              "      <td>C22 C26</td>\n",
              "      <td>S</td>\n",
              "      <td>?</td>\n",
              "      <td>135</td>\n",
              "      <td>Montreal, PQ / Chesterville, ON</td>\n",
              "    </tr>\n",
              "    <tr>\n",
              "      <th>4</th>\n",
              "      <td>1</td>\n",
              "      <td>0</td>\n",
              "      <td>Allison, Mrs. Hudson J C (Bessie Waldo Daniels)</td>\n",
              "      <td>female</td>\n",
              "      <td>25</td>\n",
              "      <td>1</td>\n",
              "      <td>2</td>\n",
              "      <td>113781</td>\n",
              "      <td>151.55</td>\n",
              "      <td>C22 C26</td>\n",
              "      <td>S</td>\n",
              "      <td>?</td>\n",
              "      <td>?</td>\n",
              "      <td>Montreal, PQ / Chesterville, ON</td>\n",
              "    </tr>\n",
              "  </tbody>\n",
              "</table>\n",
              "</div>"
            ],
            "text/plain": [
              "   pclass  survived                                             name     sex  \\\n",
              "0       1         1                    Allen, Miss. Elisabeth Walton  female   \n",
              "1       1         1                   Allison, Master. Hudson Trevor    male   \n",
              "2       1         0                     Allison, Miss. Helen Loraine  female   \n",
              "3       1         0             Allison, Mr. Hudson Joshua Creighton    male   \n",
              "4       1         0  Allison, Mrs. Hudson J C (Bessie Waldo Daniels)  female   \n",
              "\n",
              "      age  sibsp  parch  ticket      fare    cabin embarked boat body  \\\n",
              "0      29      0      0   24160  211.3375       B5        S    2    ?   \n",
              "1  0.9167      1      2  113781    151.55  C22 C26        S   11    ?   \n",
              "2       2      1      2  113781    151.55  C22 C26        S    ?    ?   \n",
              "3      30      1      2  113781    151.55  C22 C26        S    ?  135   \n",
              "4      25      1      2  113781    151.55  C22 C26        S    ?    ?   \n",
              "\n",
              "                         home.dest  \n",
              "0                     St Louis, MO  \n",
              "1  Montreal, PQ / Chesterville, ON  \n",
              "2  Montreal, PQ / Chesterville, ON  \n",
              "3  Montreal, PQ / Chesterville, ON  \n",
              "4  Montreal, PQ / Chesterville, ON  "
            ]
          },
          "execution_count": 2,
          "metadata": {},
          "output_type": "execute_result"
        }
      ],
      "source": [
        "# load the data - it is available open source and online\n",
        "\n",
        "data = pd.read_csv('https://www.openml.org/data/get_csv/16826755/phpMYEkMl')\n",
        "\n",
        "# display data\n",
        "data.head()"
      ]
    },
    {
      "cell_type": "code",
      "execution_count": 3,
      "metadata": {
        "id": "Ww3SJud081vp"
      },
      "outputs": [],
      "source": [
        "# replace interrogation marks by NaN values\n",
        "\n",
        "data = data.replace('?', np.nan)"
      ]
    },
    {
      "cell_type": "code",
      "execution_count": 4,
      "metadata": {
        "id": "RNM9N8CL81vq"
      },
      "outputs": [],
      "source": [
        "# retain only the first cabin if more than\n",
        "# 1 are available per passenger\n",
        "\n",
        "def get_first_cabin(row):\n",
        "    try:\n",
        "        return row.split()[0]\n",
        "    except:\n",
        "        return np.nan\n",
        "    \n",
        "data['cabin'] = data['cabin'].apply(get_first_cabin)"
      ]
    },
    {
      "cell_type": "code",
      "execution_count": 5,
      "metadata": {
        "id": "4SsoXKm_81vq"
      },
      "outputs": [],
      "source": [
        "# extracts the title (Mr, Ms, etc) from the name variable\n",
        "\n",
        "def get_title(passenger):\n",
        "    line = passenger\n",
        "    if re.search('Mrs', line):\n",
        "        return 'Mrs'\n",
        "    elif re.search('Mr', line):\n",
        "        return 'Mr'\n",
        "    elif re.search('Miss', line):\n",
        "        return 'Miss'\n",
        "    elif re.search('Master', line):\n",
        "        return 'Master'\n",
        "    else:\n",
        "        return 'Other'\n",
        "    \n",
        "data['title'] = data['name'].apply(get_title)"
      ]
    },
    {
      "cell_type": "code",
      "execution_count": 6,
      "metadata": {
        "id": "xXrEkupi81vr"
      },
      "outputs": [],
      "source": [
        "# cast numerical variables as floats\n",
        "\n",
        "data['fare'] = data['fare'].astype('float')\n",
        "data['age'] = data['age'].astype('float')"
      ]
    },
    {
      "cell_type": "code",
      "execution_count": 7,
      "metadata": {
        "colab": {
          "base_uri": "https://localhost:8080/",
          "height": 206
        },
        "id": "OKDakxc181vr",
        "outputId": "13336731-02cf-49b5-b1b5-9aff9bbc228f"
      },
      "outputs": [
        {
          "data": {
            "text/html": [
              "<div>\n",
              "<style scoped>\n",
              "    .dataframe tbody tr th:only-of-type {\n",
              "        vertical-align: middle;\n",
              "    }\n",
              "\n",
              "    .dataframe tbody tr th {\n",
              "        vertical-align: top;\n",
              "    }\n",
              "\n",
              "    .dataframe thead th {\n",
              "        text-align: right;\n",
              "    }\n",
              "</style>\n",
              "<table border=\"1\" class=\"dataframe\">\n",
              "  <thead>\n",
              "    <tr style=\"text-align: right;\">\n",
              "      <th></th>\n",
              "      <th>pclass</th>\n",
              "      <th>survived</th>\n",
              "      <th>sex</th>\n",
              "      <th>age</th>\n",
              "      <th>sibsp</th>\n",
              "      <th>parch</th>\n",
              "      <th>fare</th>\n",
              "      <th>cabin</th>\n",
              "      <th>embarked</th>\n",
              "      <th>title</th>\n",
              "    </tr>\n",
              "  </thead>\n",
              "  <tbody>\n",
              "    <tr>\n",
              "      <th>0</th>\n",
              "      <td>1</td>\n",
              "      <td>1</td>\n",
              "      <td>female</td>\n",
              "      <td>29.0000</td>\n",
              "      <td>0</td>\n",
              "      <td>0</td>\n",
              "      <td>211.3375</td>\n",
              "      <td>B5</td>\n",
              "      <td>S</td>\n",
              "      <td>Miss</td>\n",
              "    </tr>\n",
              "    <tr>\n",
              "      <th>1</th>\n",
              "      <td>1</td>\n",
              "      <td>1</td>\n",
              "      <td>male</td>\n",
              "      <td>0.9167</td>\n",
              "      <td>1</td>\n",
              "      <td>2</td>\n",
              "      <td>151.5500</td>\n",
              "      <td>C22</td>\n",
              "      <td>S</td>\n",
              "      <td>Master</td>\n",
              "    </tr>\n",
              "    <tr>\n",
              "      <th>2</th>\n",
              "      <td>1</td>\n",
              "      <td>0</td>\n",
              "      <td>female</td>\n",
              "      <td>2.0000</td>\n",
              "      <td>1</td>\n",
              "      <td>2</td>\n",
              "      <td>151.5500</td>\n",
              "      <td>C22</td>\n",
              "      <td>S</td>\n",
              "      <td>Miss</td>\n",
              "    </tr>\n",
              "    <tr>\n",
              "      <th>3</th>\n",
              "      <td>1</td>\n",
              "      <td>0</td>\n",
              "      <td>male</td>\n",
              "      <td>30.0000</td>\n",
              "      <td>1</td>\n",
              "      <td>2</td>\n",
              "      <td>151.5500</td>\n",
              "      <td>C22</td>\n",
              "      <td>S</td>\n",
              "      <td>Mr</td>\n",
              "    </tr>\n",
              "    <tr>\n",
              "      <th>4</th>\n",
              "      <td>1</td>\n",
              "      <td>0</td>\n",
              "      <td>female</td>\n",
              "      <td>25.0000</td>\n",
              "      <td>1</td>\n",
              "      <td>2</td>\n",
              "      <td>151.5500</td>\n",
              "      <td>C22</td>\n",
              "      <td>S</td>\n",
              "      <td>Mrs</td>\n",
              "    </tr>\n",
              "  </tbody>\n",
              "</table>\n",
              "</div>"
            ],
            "text/plain": [
              "   pclass  survived     sex      age  sibsp  parch      fare cabin embarked  \\\n",
              "0       1         1  female  29.0000      0      0  211.3375    B5        S   \n",
              "1       1         1    male   0.9167      1      2  151.5500   C22        S   \n",
              "2       1         0  female   2.0000      1      2  151.5500   C22        S   \n",
              "3       1         0    male  30.0000      1      2  151.5500   C22        S   \n",
              "4       1         0  female  25.0000      1      2  151.5500   C22        S   \n",
              "\n",
              "    title  \n",
              "0    Miss  \n",
              "1  Master  \n",
              "2    Miss  \n",
              "3      Mr  \n",
              "4     Mrs  "
            ]
          },
          "execution_count": 7,
          "metadata": {},
          "output_type": "execute_result"
        }
      ],
      "source": [
        "# drop unnecessary variables\n",
        "\n",
        "data.drop(labels=['name','ticket', 'boat', 'body','home.dest'], axis=1, inplace=True)\n",
        "\n",
        "# display data\n",
        "data.head()"
      ]
    },
    {
      "cell_type": "code",
      "execution_count": 8,
      "metadata": {
        "id": "FsZDcpJN81vs"
      },
      "outputs": [],
      "source": [
        "# save the data set\n",
        "\n",
        "data.to_csv('titanic.csv', index=False)"
      ]
    },
    {
      "cell_type": "markdown",
      "metadata": {
        "id": "GE__ZXWn81vs"
      },
      "source": [
        "## Data Exploration\n",
        "\n",
        "### Find numerical and categorical variables"
      ]
    },
    {
      "cell_type": "code",
      "execution_count": 9,
      "metadata": {
        "id": "MNHab94A81vs"
      },
      "outputs": [],
      "source": [
        "target = 'survived'"
      ]
    },
    {
      "cell_type": "code",
      "execution_count": 10,
      "metadata": {
        "colab": {
          "base_uri": "https://localhost:8080/"
        },
        "id": "nZfV8KWf81vt",
        "outputId": "a4fcdd52-476d-48f6-a430-6167ece9c7f2"
      },
      "outputs": [
        {
          "name": "stdout",
          "output_type": "stream",
          "text": [
            "Number of numerical variables: 2\n",
            "Number of categorical variables: 7\n"
          ]
        }
      ],
      "source": [
        "vars_num = ['age','fare']\n",
        "vars_cat = ['sex','cabin','embarked','title',\"sibsp\",\"parch\",\"pclass\"]\n",
        "print('Number of numerical variables: {}'.format(len(vars_num)))\n",
        "print('Number of categorical variables: {}'.format(len(vars_cat)))"
      ]
    },
    {
      "cell_type": "code",
      "execution_count": 11,
      "metadata": {},
      "outputs": [],
      "source": [
        "#data[vars_cat] = data[vars_cat].to_string()"
      ]
    },
    {
      "cell_type": "markdown",
      "metadata": {
        "id": "PV6jKa7W81vt"
      },
      "source": [
        "### Find missing values in variables"
      ]
    },
    {
      "cell_type": "code",
      "execution_count": 12,
      "metadata": {
        "id": "lxhqJhTs81vu"
      },
      "outputs": [],
      "source": [
        "# first in numerical variables\n",
        "\n",
        "null_num_vals = [val for val in vars_num if data[val].isnull().sum()>0]"
      ]
    },
    {
      "cell_type": "code",
      "execution_count": 13,
      "metadata": {},
      "outputs": [
        {
          "data": {
            "text/plain": [
              "['age', 'fare']"
            ]
          },
          "execution_count": 13,
          "metadata": {},
          "output_type": "execute_result"
        }
      ],
      "source": [
        "null_num_vals"
      ]
    },
    {
      "cell_type": "code",
      "execution_count": 14,
      "metadata": {
        "id": "C7UnzwJV81vu"
      },
      "outputs": [],
      "source": [
        "# now in categorical variables\n",
        "null_cat_vals = [val for val in vars_cat if data[val].isnull().sum()>0]\n"
      ]
    },
    {
      "cell_type": "code",
      "execution_count": 15,
      "metadata": {},
      "outputs": [
        {
          "data": {
            "text/plain": [
              "['cabin', 'embarked']"
            ]
          },
          "execution_count": 15,
          "metadata": {},
          "output_type": "execute_result"
        }
      ],
      "source": [
        "null_cat_vals"
      ]
    },
    {
      "cell_type": "markdown",
      "metadata": {
        "id": "KBByJ14w81vu"
      },
      "source": [
        "### Determine cardinality of categorical variables"
      ]
    },
    {
      "cell_type": "code",
      "execution_count": 16,
      "metadata": {
        "colab": {
          "base_uri": "https://localhost:8080/"
        },
        "id": "z8SySavl81vu",
        "outputId": "5da42901-07f1-468f-b8ad-29a4cdf14d3e"
      },
      "outputs": [
        {
          "data": {
            "text/plain": [
              "sex           2\n",
              "cabin       181\n",
              "embarked      3\n",
              "title         5\n",
              "sibsp         7\n",
              "parch         8\n",
              "pclass        3\n",
              "dtype: int64"
            ]
          },
          "execution_count": 16,
          "metadata": {},
          "output_type": "execute_result"
        }
      ],
      "source": [
        "data[vars_cat].nunique()"
      ]
    },
    {
      "cell_type": "markdown",
      "metadata": {
        "id": "K1bT_-8u81vv"
      },
      "source": [
        "### Determine the distribution of numerical variables"
      ]
    },
    {
      "cell_type": "code",
      "execution_count": 17,
      "metadata": {
        "colab": {
          "base_uri": "https://localhost:8080/",
          "height": 779
        },
        "id": "ntgBb4yu81vv",
        "outputId": "fbcd80a5-1ea8-468e-bf17-a5d8a3eda8c2"
      },
      "outputs": [
        {
          "data": {
            "image/png": "[encoded data removed]",
            "text/plain": [
              "<Figure size 432x288 with 1 Axes>"
            ]
          },
          "metadata": {
            "needs_background": "light"
          },
          "output_type": "display_data"
        },
        {
          "data": {
            "image/png": "[encoded data removed]",
            "text/plain": [
              "<Figure size 432x288 with 1 Axes>"
            ]
          },
          "metadata": {
            "needs_background": "light"
          },
          "output_type": "display_data"
        },
        {
          "data": {
            "image/png": "[encoded data removed]",
            "text/plain": [
              "<Figure size 432x288 with 1 Axes>"
            ]
          },
          "metadata": {
            "needs_background": "light"
          },
          "output_type": "display_data"
        },
        {
          "data": {
            "image/png": "[encoded data removed]",
            "text/plain": [
              "<Figure size 432x288 with 1 Axes>"
            ]
          },
          "metadata": {
            "needs_background": "light"
          },
          "output_type": "display_data"
        },
        {
          "data": {
            "image/png": "[encoded data removed]",
            "text/plain": [
              "<Figure size 432x288 with 1 Axes>"
            ]
          },
          "metadata": {
            "needs_background": "light"
          },
          "output_type": "display_data"
        },
        {
          "data": {
            "image/png": "[encoded data removed]",
            "text/plain": [
              "<Figure size 432x288 with 1 Axes>"
            ]
          },
          "metadata": {
            "needs_background": "light"
          },
          "output_type": "display_data"
        }
      ],
      "source": [
        "def plot_cont_graph(data, var):\n",
        "    if data[var].nunique() > 10:\n",
        "        sns.kdeplot(data=data[var])\n",
        "    else:\n",
        "        sns.histplot(data=data[var], bins=data[var].nunique())\n",
        "    plt.title(f'{var} distribution')\n",
        "    plt.show()\n",
        "\n",
        "def plot_num_graph(data, var):\n",
        "    sns.countplot(data=data, x=var)\n",
        "    plt.title(f'{var} count')\n",
        "    plt.show()\n",
        "\n",
        "\n",
        "for var in vars_num+[\"pclass\",\"survived\",\"parch\",\"sibsp\"]:\n",
        "    if data[var].dtype == np.float64:\n",
        "        plot_cont_graph(data, var)\n",
        "    elif data[var].dtype == np.int64:\n",
        "        plot_num_graph(data, var)\n",
        "    else:\n",
        "        print(f\"Skipping {var}: data type {data[var].dtype} not supported.\")"
      ]
    },
    {
      "cell_type": "markdown",
      "metadata": {
        "id": "Mg_qWEZD81vv"
      },
      "source": [
        "## Separate data into train and test\n",
        "\n",
        "Use the code below for reproducibility. Don't change it."
      ]
    },
    {
      "cell_type": "code",
      "execution_count": 18,
      "metadata": {
        "colab": {
          "base_uri": "https://localhost:8080/"
        },
        "id": "A2AIvcVR81vv",
        "outputId": "c312f82f-7abc-4a62-bccc-2119d79b709f"
      },
      "outputs": [
        {
          "data": {
            "text/plain": [
              "((1047, 9), (262, 9))"
            ]
          },
          "execution_count": 18,
          "metadata": {},
          "output_type": "execute_result"
        }
      ],
      "source": [
        "X_train, X_test, y_train, y_test = train_test_split(\n",
        "    data.drop('survived', axis=1),  # predictors\n",
        "    data['survived'],  # target\n",
        "    test_size=0.2,  # percentage of obs in test set\n",
        "    random_state=0)  # seed to ensure reproducibility\n",
        "\n",
        "X_train.shape, X_test.shape"
      ]
    },
    {
      "cell_type": "markdown",
      "metadata": {
        "id": "VU7SKPfR81vv"
      },
      "source": [
        "## Feature Engineering\n",
        "\n",
        "### Extract only the letter (and drop the number) from the variable Cabin"
      ]
    },
    {
      "cell_type": "code",
      "execution_count": 19,
      "metadata": {},
      "outputs": [
        {
          "name": "stdout",
          "output_type": "stream",
          "text": [
            "C    78\n",
            "B    52\n",
            "D    36\n",
            "E    36\n",
            "A    19\n",
            "F    18\n",
            "G     4\n",
            "T     1\n",
            "Name: cabin, dtype: int64\n",
            "C    16\n",
            "B    13\n",
            "D    10\n",
            "E     5\n",
            "A     3\n",
            "F     3\n",
            "G     1\n",
            "Name: cabin, dtype: int64\n"
          ]
        }
      ],
      "source": [
        "# Assign to the 'cabin' column the first letter of the string in that column, if it is not null. Otherwise, assign NaN to the column.\n",
        "X_train['cabin'] = X_train['cabin'].apply(lambda x: x[0] if pd.notnull(x) else np.nan)\n",
        "X_test['cabin'] = X_test['cabin'].apply(lambda x: x[0] if pd.notnull(x) else np.nan)\n",
        "\n",
        "# Count the number of occurrences of each value in the 'cabin' column of the X_train and X_test DataFrames.\n",
        "print(X_train['cabin'].value_counts())\n",
        "print(X_test['cabin'].value_counts())"
      ]
    },
    {
      "cell_type": "markdown",
      "metadata": {
        "id": "4HYbjPck81vv"
      },
      "source": [
        "### Fill in Missing data in numerical variables:\n",
        "\n",
        "- Add a binary missing indicator\n",
        "- Fill NA in original variable with the median"
      ]
    },
    {
      "cell_type": "code",
      "execution_count": 20,
      "metadata": {
        "colab": {
          "base_uri": "https://localhost:8080/"
        },
        "id": "TaVtl8X781vw",
        "outputId": "312380ef-4330-4a63-f6c1-0f3404a7a795"
      },
      "outputs": [
        {
          "name": "stdout",
          "output_type": "stream",
          "text": [
            "Number of missing values in X_train:\n",
            "age     0\n",
            "fare    0\n",
            "dtype: int64\n"
          ]
        }
      ],
      "source": [
        "# For each variable that has missing values\n",
        "for var in null_num_vals:\n",
        "    # Calculate the mode of the variable in the X_train set\n",
        "    mode_val = X_train[var].mode()[0]\n",
        "\n",
        "    # Add a binary missing indicator column for the variable in both X_train and X_test\n",
        "    for df in [X_train, X_test]:\n",
        "        df[var+'_na'] = df[var].isnull().astype(int)\n",
        "\n",
        "    # Replace missing values with the mode value for the variable in both X_train and X_test\n",
        "    for df in [X_train, X_test]:\n",
        "        df[var] = df[var].fillna(mode_val)\n",
        "\n",
        "# Print the number of missing values for each variable in X_train\n",
        "print(\"Number of missing values in X_train:\")\n",
        "print(X_train[null_num_vals].isnull().sum())"
      ]
    },
    {
      "cell_type": "markdown",
      "metadata": {
        "id": "buI2K7Yr81vw"
      },
      "source": [
        "### Replace Missing data in categorical variables with the string **Missing**"
      ]
    },
    {
      "cell_type": "code",
      "execution_count": 21,
      "metadata": {
        "id": "ivlyZrr181vw"
      },
      "outputs": [],
      "source": [
        "X_train[null_cat_vals] = X_train[null_cat_vals].fillna('Missing')\n",
        "X_test[null_cat_vals] = X_test[null_cat_vals].fillna('Missing')"
      ]
    },
    {
      "cell_type": "code",
      "execution_count": 22,
      "metadata": {
        "colab": {
          "base_uri": "https://localhost:8080/"
        },
        "id": "9eNt8loZ81vw",
        "outputId": "39e90a18-aa11-4a98-b028-aa92d9c4f7a2"
      },
      "outputs": [
        {
          "data": {
            "text/plain": [
              "cabin       0\n",
              "embarked    0\n",
              "dtype: int64"
            ]
          },
          "execution_count": 22,
          "metadata": {},
          "output_type": "execute_result"
        }
      ],
      "source": [
        "X_train[null_cat_vals].isnull().sum()"
      ]
    },
    {
      "cell_type": "code",
      "execution_count": 23,
      "metadata": {
        "colab": {
          "base_uri": "https://localhost:8080/"
        },
        "id": "0EdE56ms81vw",
        "outputId": "56fe894c-49bb-45ad-c86f-4130a592b31a"
      },
      "outputs": [
        {
          "data": {
            "text/plain": [
              "cabin       0\n",
              "embarked    0\n",
              "dtype: int64"
            ]
          },
          "execution_count": 23,
          "metadata": {},
          "output_type": "execute_result"
        }
      ],
      "source": [
        "X_test[null_cat_vals].isnull().sum()"
      ]
    },
    {
      "cell_type": "markdown",
      "metadata": {
        "id": "Dr8rZAbf81vw"
      },
      "source": [
        "### Remove rare labels in categorical variables\n",
        "\n",
        "- remove labels present in less than 5 % of the passengers"
      ]
    },
    {
      "cell_type": "code",
      "execution_count": 24,
      "metadata": {
        "id": "7qcTsO7f81vw"
      },
      "outputs": [],
      "source": [
        "def freq_labels(df, var, rare_perc):\n",
        "    # Calculate the threshold for the quantity of rare categories\n",
        "    rare_threshold = df.shape[0] * rare_perc\n",
        "\n",
        "    # Find the frequent categories for the specified variable\n",
        "    value_counts = df[var].value_counts()\n",
        "    frequent_cats = value_counts[value_counts > rare_threshold].index.tolist()\n",
        "\n",
        "    # Return a Series containing the values of the variable that are in the frequent categories\n",
        "    return df.loc[df[var].isin(frequent_cats), var]"
      ]
    },
    {
      "cell_type": "code",
      "execution_count": 25,
      "metadata": {
        "id": "qeSm-1R681vx"
      },
      "outputs": [],
      "source": [
        "for var in vars_cat:\n",
        "    \n",
        "    # find the frequent categories\n",
        "    frequent_ls = freq_labels(X_train, var, 0.05)\n",
        "    \n",
        "    # replace rare categories by the string \"Rare\"\n",
        "    X_train[var] = np.where(X_train[var].isin(\n",
        "        frequent_ls), X_train[var], 'Rare')\n",
        "    \n",
        "    X_test[var] = np.where(X_test[var].isin(\n",
        "        frequent_ls), X_test[var], 'Rare')"
      ]
    },
    {
      "cell_type": "code",
      "execution_count": 26,
      "metadata": {
        "colab": {
          "base_uri": "https://localhost:8080/"
        },
        "id": "TyO_z2iG81vx",
        "outputId": "d798d07e-0d79-40d5-bb91-683fc0b7df43"
      },
      "outputs": [
        {
          "data": {
            "text/plain": [
              "Missing    803\n",
              "Rare       166\n",
              "C           78\n",
              "Name: cabin, dtype: int64"
            ]
          },
          "execution_count": 26,
          "metadata": {},
          "output_type": "execute_result"
        }
      ],
      "source": [
        "X_train['cabin'].value_counts()"
      ]
    },
    {
      "cell_type": "markdown",
      "metadata": {
        "id": "jrMgXxSC81vx"
      },
      "source": [
        "### Perform one hot encoding of categorical variables into k-1 binary variables\n",
        "\n",
        "- k-1, means that if the variable contains 9 different categories, we create 8 different binary variables\n",
        "- Remember to drop the original categorical variable (the one with the strings) after the encoding"
      ]
    },
    {
      "cell_type": "code",
      "execution_count": 27,
      "metadata": {
        "colab": {
          "base_uri": "https://localhost:8080/"
        },
        "id": "qu8s5ayR81vx",
        "outputId": "3671cd75-0aa1-4556-dc97-929aae953ef1"
      },
      "outputs": [
        {
          "data": {
            "text/plain": [
              "sex         0\n",
              "cabin       0\n",
              "embarked    0\n",
              "title       0\n",
              "sibsp       0\n",
              "parch       0\n",
              "pclass      0\n",
              "dtype: int64"
            ]
          },
          "execution_count": 27,
          "metadata": {},
          "output_type": "execute_result"
        }
      ],
      "source": [
        "\n",
        "X_train[vars_cat].isnull().sum()"
      ]
    },
    {
      "cell_type": "code",
      "execution_count": 28,
      "metadata": {
        "colab": {
          "base_uri": "https://localhost:8080/"
        },
        "id": "D2HyOLOq81vx",
        "outputId": "bc6f54eb-7dae-41b7-daec-4364e6e18fb8"
      },
      "outputs": [
        {
          "data": {
            "text/plain": [
              "sex         2\n",
              "cabin       3\n",
              "embarked    4\n",
              "title       4\n",
              "sibsp       3\n",
              "parch       4\n",
              "pclass      3\n",
              "dtype: int64"
            ]
          },
          "execution_count": 28,
          "metadata": {},
          "output_type": "execute_result"
        }
      ],
      "source": [
        "X_train[vars_cat].nunique()"
      ]
    },
    {
      "cell_type": "code",
      "execution_count": 29,
      "metadata": {
        "id": "w_vaKpir81vx"
      },
      "outputs": [],
      "source": [
        "from sklearn.compose import ColumnTransformer\n",
        "from sklearn.preprocessing import OneHotEncoder\n",
        "\n",
        "# Define the column transformer to encode categorical variables\n",
        "trans_data = ColumnTransformer(transformers=[\n",
        "    ('OHEncode', OneHotEncoder(drop='first'), vars_cat)],\n",
        "    remainder='passthrough')\n",
        "\n",
        "# Fit the column transformer to the training data and transform it\n",
        "X_train = trans_data.fit_transform(X_train)\n",
        "\n",
        "# Transform the test data using the fitted column transformer\n",
        "X_test = trans_data.transform(X_test)"
      ]
    },
    {
      "cell_type": "code",
      "execution_count": null,
      "metadata": {
        "id": "1jMAZuUu81vx"
      },
      "outputs": [],
      "source": []
    },
    {
      "cell_type": "markdown",
      "metadata": {
        "id": "n46Zbw1G81vy"
      },
      "source": [
        "### Scale the variables\n",
        "\n",
        "- Use the standard scaler from Scikit-learn"
      ]
    },
    {
      "cell_type": "code",
      "execution_count": 30,
      "metadata": {
        "id": "6IpwX53881vy"
      },
      "outputs": [],
      "source": [
        "scaler = StandardScaler()\n",
        "# fit and transform the train set\n",
        "X_train = scaler.fit_transform(X_train)\n",
        "\n",
        "# transform the test set using the scaler fitted on train set\n",
        "X_test = scaler.transform(X_test)"
      ]
    },
    {
      "cell_type": "markdown",
      "metadata": {
        "id": "biMj7OOW81vy"
      },
      "source": [
        "## Train the Logistic Regression model\n",
        "\n",
        "- Set the regularization parameter to 0.0005\n",
        "- Set the seed to 0"
      ]
    },
    {
      "cell_type": "code",
      "execution_count": 31,
      "metadata": {
        "colab": {
          "base_uri": "https://localhost:8080/"
        },
        "id": "lNLeq5mI81vy",
        "outputId": "d5409944-d4bf-4a17-b4ee-d32b74b2f600"
      },
      "outputs": [],
      "source": [
        "\n",
        "\n",
        "penalty_list = ['l1', 'l2']\n",
        "tol_list = [0.0001, 0.0005, 0.001]\n",
        "solver_list = ['liblinear', 'saga']\n",
        "l1_ratio_list = [0.5, 1]\n",
        "\n",
        "best_score = 0\n",
        "best_model = None\n",
        "\n",
        "# Iterate over all hyperparameter combinations\n",
        "for penalty in penalty_list:\n",
        "    for tol in tol_list:\n",
        "        for solver in solver_list:\n",
        "            for l1_ratio in l1_ratio_list:\n",
        "                log_reg = LogisticRegression(penalty=penalty, tol=tol, random_state=0,\n",
        "                                             solver=solver, l1_ratio=l1_ratio)\n",
        "                # Fit the model to the training data\n",
        "                log_reg.fit(X_train, y_train)\n",
        "                # Calculate the accuracy score on the validation data\n",
        "                score = log_reg.score(X_test, y_test)\n",
        "                # If this is the best score we've seen so far, save the model\n",
        "                if score > best_score:\n",
        "                    best_score = score\n",
        "                    best_model = log_reg\n",
        "\n",
        "# Use the best model to make predictions on the test data\n",
        "y_pred = best_model.predict(X_test)"
      ]
    },
    {
      "cell_type": "markdown",
      "metadata": {
        "id": "Hc350T6N81vy"
      },
      "source": [
        "## Make predictions and evaluate model performance\n",
        "\n",
        "Determine:\n",
        "- roc-auc\n",
        "- accuracy\n",
        "\n",
        "**Important, remember that to determine the accuracy, you need the outcome 0, 1, referring to survived or not. But to determine the roc-auc you need the probability of survival.**"
      ]
    },
    {
      "cell_type": "code",
      "execution_count": 32,
      "metadata": {
        "colab": {
          "base_uri": "https://localhost:8080/"
        },
        "id": "P1GMtY1L81vy",
        "outputId": "fc1bc5c0-4884-4fe3-a6f4-3a3243e0e218"
      },
      "outputs": [
        {
          "name": "stdout",
          "output_type": "stream",
          "text": [
            "Accuracy: 0.809\n",
            "ROC-AUC : 0.784\n"
          ]
        }
      ],
      "source": [
        "\n",
        "print('Accuracy: %.3f' % accuracy_score(y_test.values, y_pred))\n",
        "print('ROC-AUC : %.3f' % roc_auc_score(y_test.values, y_pred))"
      ]
    },
    {
      "cell_type": "markdown",
      "metadata": {
        "id": "qA0Bw1ds81vz"
      },
      "source": [
        "That's it! Well done\n",
        "\n",
        "**Keep this code safe, as we will use this notebook later on, to build production code, in our next assignement!!**"
      ]
    },
    {
      "cell_type": "code",
      "execution_count": null,
      "metadata": {
        "id": "FdJJmEMF81vz"
      },
      "outputs": [],
      "source": []
    }
  ],
  "metadata": {
    "colab": {
      "provenance": []
    },
    "kernelspec": {
      "display_name": "Python 3",
      "language": "python",
      "name": "python3"
    },
    "language_info": {
      "codemirror_mode": {
        "name": "ipython",
        "version": 3
      },
      "file_extension": ".py",
      "mimetype": "text/x-python",
      "name": "python",
      "nbconvert_exporter": "python",
      "pygments_lexer": "ipython3",
      "version": "3.7.2"
    },
    "toc": {
      "base_numbering": 1,
      "nav_menu": {},
      "number_sections": true,
      "sideBar": true,
      "skip_h1_title": false,
      "title_cell": "Table of Contents",
      "title_sidebar": "Contents",
      "toc_cell": false,
      "toc_position": {},
      "toc_section_display": true,
      "toc_window_display": true
    },
    "vscode": {
      "interpreter": {
        "hash": "aee8b7b246df8f9039afb4144a1f6fd8d2ca17a180786b69acc140d282b71a49"
      }
    }
  },
  "nbformat": 4,
  "nbformat_minor": 0
}
